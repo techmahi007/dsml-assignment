{
  "cells": [
    {
      "cell_type": "code",
      "execution_count": 1,
      "metadata": {
        "id": "s0ZMcvj8Qo3y"
      },
      "outputs": [],
      "source": [
        "import pandas as pd\n",
        "import numpy as np\n",
        "from numpy import log2 as log"
      ]
    },
    {
      "cell_type": "code",
      "execution_count": 13,
      "metadata": {
        "id": "_L-RGlhbtT1Y"
      },
      "outputs": [
        {
          "name": "stdout",
          "output_type": "stream",
          "text": [
            "2.220446049250313e-16\n"
          ]
        }
      ],
      "source": [
        "eps = np.finfo(float).eps  # it gives the smallest positive value of the float data type\n",
        "print(eps)"
      ]
    },
    {
      "cell_type": "code",
      "execution_count": 3,
      "metadata": {
        "colab": {
          "base_uri": "https://localhost:8080/",
          "height": 488
        },
        "id": "K6d2aU5-QzyN",
        "outputId": "e2d24d95-1872-4e4f-d272-403511392b9a"
      },
      "outputs": [
        {
          "data": {
            "text/html": [
              "<div>\n",
              "<style scoped>\n",
              "    .dataframe tbody tr th:only-of-type {\n",
              "        vertical-align: middle;\n",
              "    }\n",
              "\n",
              "    .dataframe tbody tr th {\n",
              "        vertical-align: top;\n",
              "    }\n",
              "\n",
              "    .dataframe thead th {\n",
              "        text-align: right;\n",
              "    }\n",
              "</style>\n",
              "<table border=\"1\" class=\"dataframe\">\n",
              "  <thead>\n",
              "    <tr style=\"text-align: right;\">\n",
              "      <th></th>\n",
              "      <th>Age</th>\n",
              "      <th>Income</th>\n",
              "      <th>Gender</th>\n",
              "      <th>MaritialStatus</th>\n",
              "      <th>Buys</th>\n",
              "    </tr>\n",
              "  </thead>\n",
              "  <tbody>\n",
              "    <tr>\n",
              "      <th>0</th>\n",
              "      <td>&lt;21</td>\n",
              "      <td>High</td>\n",
              "      <td>Male</td>\n",
              "      <td>Single</td>\n",
              "      <td>No</td>\n",
              "    </tr>\n",
              "    <tr>\n",
              "      <th>1</th>\n",
              "      <td>&lt;21</td>\n",
              "      <td>High</td>\n",
              "      <td>Male</td>\n",
              "      <td>Married</td>\n",
              "      <td>No</td>\n",
              "    </tr>\n",
              "    <tr>\n",
              "      <th>2</th>\n",
              "      <td>21-35</td>\n",
              "      <td>High</td>\n",
              "      <td>Male</td>\n",
              "      <td>Single</td>\n",
              "      <td>Yes</td>\n",
              "    </tr>\n",
              "    <tr>\n",
              "      <th>3</th>\n",
              "      <td>&gt;35</td>\n",
              "      <td>Medium</td>\n",
              "      <td>Male</td>\n",
              "      <td>Single</td>\n",
              "      <td>Yes</td>\n",
              "    </tr>\n",
              "    <tr>\n",
              "      <th>4</th>\n",
              "      <td>&gt;35</td>\n",
              "      <td>Low</td>\n",
              "      <td>Female</td>\n",
              "      <td>Single</td>\n",
              "      <td>Yes</td>\n",
              "    </tr>\n",
              "    <tr>\n",
              "      <th>5</th>\n",
              "      <td>&gt;35</td>\n",
              "      <td>Low</td>\n",
              "      <td>Female</td>\n",
              "      <td>Married</td>\n",
              "      <td>No</td>\n",
              "    </tr>\n",
              "    <tr>\n",
              "      <th>6</th>\n",
              "      <td>21-35</td>\n",
              "      <td>Low</td>\n",
              "      <td>Female</td>\n",
              "      <td>Married</td>\n",
              "      <td>Yes</td>\n",
              "    </tr>\n",
              "    <tr>\n",
              "      <th>7</th>\n",
              "      <td>&lt;21</td>\n",
              "      <td>Medium</td>\n",
              "      <td>Male</td>\n",
              "      <td>Single</td>\n",
              "      <td>No</td>\n",
              "    </tr>\n",
              "    <tr>\n",
              "      <th>8</th>\n",
              "      <td>&lt;21</td>\n",
              "      <td>Low</td>\n",
              "      <td>Female</td>\n",
              "      <td>Married</td>\n",
              "      <td>Yes</td>\n",
              "    </tr>\n",
              "    <tr>\n",
              "      <th>9</th>\n",
              "      <td>&gt;35</td>\n",
              "      <td>Medium</td>\n",
              "      <td>Female</td>\n",
              "      <td>Single</td>\n",
              "      <td>Yes</td>\n",
              "    </tr>\n",
              "    <tr>\n",
              "      <th>10</th>\n",
              "      <td>&lt;21</td>\n",
              "      <td>Medium</td>\n",
              "      <td>Female</td>\n",
              "      <td>Married</td>\n",
              "      <td>Yes</td>\n",
              "    </tr>\n",
              "    <tr>\n",
              "      <th>11</th>\n",
              "      <td>21-35</td>\n",
              "      <td>Medium</td>\n",
              "      <td>Male</td>\n",
              "      <td>Married</td>\n",
              "      <td>Yes</td>\n",
              "    </tr>\n",
              "    <tr>\n",
              "      <th>12</th>\n",
              "      <td>21-35</td>\n",
              "      <td>High</td>\n",
              "      <td>Female</td>\n",
              "      <td>Single</td>\n",
              "      <td>Yes</td>\n",
              "    </tr>\n",
              "    <tr>\n",
              "      <th>13</th>\n",
              "      <td>&gt;35</td>\n",
              "      <td>Medium</td>\n",
              "      <td>Male</td>\n",
              "      <td>Married</td>\n",
              "      <td>No</td>\n",
              "    </tr>\n",
              "  </tbody>\n",
              "</table>\n",
              "</div>"
            ],
            "text/plain": [
              "      Age  Income  Gender MaritialStatus Buys\n",
              "0     <21    High    Male         Single   No\n",
              "1     <21    High    Male        Married   No\n",
              "2   21-35    High    Male         Single  Yes\n",
              "3     >35  Medium    Male         Single  Yes\n",
              "4     >35     Low  Female         Single  Yes\n",
              "5     >35     Low  Female        Married   No\n",
              "6   21-35     Low  Female        Married  Yes\n",
              "7     <21  Medium    Male         Single   No\n",
              "8     <21     Low  Female        Married  Yes\n",
              "9     >35  Medium  Female         Single  Yes\n",
              "10    <21  Medium  Female        Married  Yes\n",
              "11  21-35  Medium    Male        Married  Yes\n",
              "12  21-35    High  Female         Single  Yes\n",
              "13    >35  Medium    Male        Married   No"
            ]
          },
          "execution_count": 3,
          "metadata": {},
          "output_type": "execute_result"
        }
      ],
      "source": [
        "data=pd.read_csv(\"dicision tree dataset.csv\")\n",
        "data"
      ]
    },
    {
      "cell_type": "code",
      "execution_count": 4,
      "metadata": {
        "colab": {
          "base_uri": "https://localhost:8080/",
          "height": 175
        },
        "id": "zBuG_ZtJQ7r3",
        "outputId": "fb050d14-1e14-4839-954a-248cd6f6fb81"
      },
      "outputs": [
        {
          "data": {
            "text/html": [
              "<div>\n",
              "<style scoped>\n",
              "    .dataframe tbody tr th:only-of-type {\n",
              "        vertical-align: middle;\n",
              "    }\n",
              "\n",
              "    .dataframe tbody tr th {\n",
              "        vertical-align: top;\n",
              "    }\n",
              "\n",
              "    .dataframe thead th {\n",
              "        text-align: right;\n",
              "    }\n",
              "</style>\n",
              "<table border=\"1\" class=\"dataframe\">\n",
              "  <thead>\n",
              "    <tr style=\"text-align: right;\">\n",
              "      <th></th>\n",
              "      <th>Age</th>\n",
              "      <th>Income</th>\n",
              "      <th>Gender</th>\n",
              "      <th>MaritialStatus</th>\n",
              "      <th>Buys</th>\n",
              "    </tr>\n",
              "  </thead>\n",
              "  <tbody>\n",
              "    <tr>\n",
              "      <th>count</th>\n",
              "      <td>14</td>\n",
              "      <td>14</td>\n",
              "      <td>14</td>\n",
              "      <td>14</td>\n",
              "      <td>14</td>\n",
              "    </tr>\n",
              "    <tr>\n",
              "      <th>unique</th>\n",
              "      <td>3</td>\n",
              "      <td>3</td>\n",
              "      <td>2</td>\n",
              "      <td>2</td>\n",
              "      <td>2</td>\n",
              "    </tr>\n",
              "    <tr>\n",
              "      <th>top</th>\n",
              "      <td>&lt;21</td>\n",
              "      <td>Medium</td>\n",
              "      <td>Male</td>\n",
              "      <td>Single</td>\n",
              "      <td>Yes</td>\n",
              "    </tr>\n",
              "    <tr>\n",
              "      <th>freq</th>\n",
              "      <td>5</td>\n",
              "      <td>6</td>\n",
              "      <td>7</td>\n",
              "      <td>7</td>\n",
              "      <td>9</td>\n",
              "    </tr>\n",
              "  </tbody>\n",
              "</table>\n",
              "</div>"
            ],
            "text/plain": [
              "        Age  Income Gender MaritialStatus Buys\n",
              "count    14      14     14             14   14\n",
              "unique    3       3      2              2    2\n",
              "top     <21  Medium   Male         Single  Yes\n",
              "freq      5       6      7              7    9"
            ]
          },
          "execution_count": 4,
          "metadata": {},
          "output_type": "execute_result"
        }
      ],
      "source": [
        "data.describe()"
      ]
    },
    {
      "cell_type": "code",
      "execution_count": 5,
      "metadata": {
        "colab": {
          "base_uri": "https://localhost:8080/"
        },
        "id": "eJ-iM8R1RZ_n",
        "outputId": "b3860e40-2a67-4fcc-ced0-ff9d02b57ad8"
      },
      "outputs": [
        {
          "data": {
            "text/plain": [
              "Yes    9\n",
              "No     5\n",
              "Name: Buys, dtype: int64"
            ]
          },
          "execution_count": 5,
          "metadata": {},
          "output_type": "execute_result"
        }
      ],
      "source": [
        "data['Buys'].value_counts()"
      ]
    },
    {
      "cell_type": "code",
      "execution_count": 8,
      "metadata": {
        "id": "pMHF1URkUiaX"
      },
      "outputs": [],
      "source": [
        "def find_entropy(data):\n",
        "  Class = data.keys()[-1]  # Class = Buys\n",
        "  entropy = 0\n",
        "  values = data[Class].unique()  # values = ['No', 'Yes']\n",
        "  for value in values:\n",
        "    prob = data[Class].value_counts()[value]/len(data[Class])  # 'No' = 5/14, 'Yes' = 9/14\n",
        "    entropy += -prob*np.log2(prob)\n",
        "  return entropy"
      ]
    },
    {
      "cell_type": "code",
      "execution_count": 9,
      "metadata": {
        "colab": {
          "base_uri": "https://localhost:8080/"
        },
        "id": "N7p-Sz3mXS5b",
        "outputId": "59fca8bc-bf7b-4d8b-92d9-4743edd30753"
      },
      "outputs": [
        {
          "name": "stdout",
          "output_type": "stream",
          "text": [
            "0.9402859586706311\n"
          ]
        }
      ],
      "source": [
        "total_Entropy = find_entropy(data)\n",
        "print(total_Entropy)"
      ]
    },
    {
      "cell_type": "code",
      "execution_count": 20,
      "metadata": {
        "id": "Bh5sQndQtDjc"
      },
      "outputs": [],
      "source": [
        "#Find entropy of the attribute (Each Columns)\n",
        "def find_entropy_attribute(data,attribute):\n",
        "    Class = data.keys()[-1]   # Class = Buys => To make the code generic, changing target variable class name\n",
        "    target_variables = data[Class].unique()  # target_variables = ['No', 'Yes']\n",
        "    variables = data[attribute].unique()   #This gives different features in that attribute (like 'High','Medium','Low' in Income)\n",
        "    entropy2 = 0\n",
        "    for variable in variables:\n",
        "        entropy = 0\n",
        "        for target_variable in target_variables:\n",
        "            num = len(data[attribute][data[attribute]==variable][data[Class] ==target_variable]) # num[[Income=High] && [Buys==Yes]] = 2\n",
        "            den = len(data[attribute][data[attribute]==variable])  # den[Income==High] = 4\n",
        "            fraction = num/(den+eps)  # fraction = 2/4 = 0.5\n",
        "            entropy += -fraction*log(fraction+eps)\n",
        "        fraction2 = den/len(data)  # fraction2 = 4/14 = 0.2857142857142857\n",
        "        entropy2 += -fraction2*entropy\n",
        "    return abs(entropy2)"
      ]
    },
    {
      "cell_type": "code",
      "execution_count": 21,
      "metadata": {},
      "outputs": [],
      "source": [
        "# Find the Root Node\n",
        "def find_winner(data):\n",
        "    #Entropy_att = []\n",
        "    IG = [] # IG => Information Gain\n",
        "    for key in data.keys()[:-1]:  # key in ['Age', 'Income', 'Gender', 'MaritalStatus']\n",
        "    #Entropy_att.append(find_entropy_attribute(df,key))\n",
        "        IG.append(find_entropy(data)-find_entropy_attribute(data,key))\n",
        "    return data.keys()[:-1][np.argmax(IG)]  # returns the attribute with maximum IG"
      ]
    },
    {
      "cell_type": "code",
      "execution_count": 22,
      "metadata": {},
      "outputs": [],
      "source": [
        "# Find the leaf Nodes\n",
        "def get_subtable(data, node, value):\n",
        "    return data[data[node] == value].reset_index(drop=True)"
      ]
    },
    {
      "cell_type": "code",
      "execution_count": 29,
      "metadata": {},
      "outputs": [],
      "source": [
        "# Build Tree\n",
        "def buildTree(data,tree=None): \n",
        "    Class = data.keys()[-1]   # Class = Buys\n",
        "    \n",
        "    #Here we build our decision tree\n",
        "\n",
        "    #Get attribute with maximum information gain\n",
        "    node = find_winner(data)\n",
        "    \n",
        "    #Get distinct value of that attribute e.g Income is node and Low, Med and High are values\n",
        "    attValue = np.unique(data[node])\n",
        "    \n",
        "    #Create an empty dictionary to create tree    \n",
        "    if tree is None:                    \n",
        "        tree={}\n",
        "        tree[node] = {}\n",
        "    \n",
        "    #We make loop to construct a tree by calling this function recursively. \n",
        "    #In this we check if the subset is pure and stops if it is pure. \n",
        "\n",
        "    for value in attValue:\n",
        "        \n",
        "        subtable = get_subtable(data,node,value)  # this gives leaf node value\n",
        "        clValue,counts = np.unique(subtable['Buys'],return_counts=True)                        \n",
        "        \n",
        "        if len(counts)==1:#Checking purity of subset\n",
        "            tree[node][value] = clValue[0]                                                    \n",
        "        else:        \n",
        "            tree[node][value] = buildTree(subtable) #Calling the function recursively \n",
        "                   \n",
        "    return tree"
      ]
    },
    {
      "cell_type": "code",
      "execution_count": 24,
      "metadata": {},
      "outputs": [],
      "source": [
        "#Check the function\n",
        "tree = buildTree(data)"
      ]
    },
    {
      "cell_type": "code",
      "execution_count": 27,
      "metadata": {},
      "outputs": [
        {
          "data": {
            "text/plain": [
              "{'Age': {'21-35': 'Yes',\n",
              "  '<21': {'Gender': {'Female': 'Yes', 'Male': 'No'}},\n",
              "  '>35': {'MaritialStatus': {'Married': 'No', 'Single': 'Yes'}}}}"
            ]
          },
          "execution_count": 27,
          "metadata": {},
          "output_type": "execute_result"
        }
      ],
      "source": [
        "tree"
      ]
    },
    {
      "cell_type": "code",
      "execution_count": 25,
      "metadata": {
        "id": "7FTziCVTclxc"
      },
      "outputs": [],
      "source": [
        "def find_Gini_Index(data):\n",
        "  Class = data.keys()[-1]\n",
        "  gini = 0\n",
        "  values = data[Class].unique()\n",
        "  for value in values:\n",
        "    prob = data[Class].value_counts()[value]/len(data[Class])\n",
        "    gini += (prob*prob)\n",
        "  return (1-gini)"
      ]
    },
    {
      "cell_type": "code",
      "execution_count": 26,
      "metadata": {
        "colab": {
          "base_uri": "https://localhost:8080/"
        },
        "id": "0zCZEUkEdCca",
        "outputId": "e38aee9d-bcd0-4eb7-ff02-02273c6a4eef"
      },
      "outputs": [
        {
          "name": "stdout",
          "output_type": "stream",
          "text": [
            "0.4591836734693877\n"
          ]
        }
      ],
      "source": [
        "Gini_Index = find_Gini_Index(data)\n",
        "print(Gini_Index)"
      ]
    }
  ],
  "metadata": {
    "colab": {
      "provenance": []
    },
    "kernelspec": {
      "display_name": "Python 3.10.6 64-bit",
      "language": "python",
      "name": "python3"
    },
    "language_info": {
      "codemirror_mode": {
        "name": "ipython",
        "version": 3
      },
      "file_extension": ".py",
      "mimetype": "text/x-python",
      "name": "python",
      "nbconvert_exporter": "python",
      "pygments_lexer": "ipython3",
      "version": "3.10.8"
    },
    "vscode": {
      "interpreter": {
        "hash": "fe1483291c7827397d86c52212aace75da2c1d8fb9e8967b2af50ad496ec9813"
      }
    }
  },
  "nbformat": 4,
  "nbformat_minor": 0
}
